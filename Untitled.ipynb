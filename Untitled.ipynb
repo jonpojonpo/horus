{
 "cells": [
  {
   "cell_type": "code",
   "execution_count": 9,
   "metadata": {},
   "outputs": [],
   "source": [
    "import pandas as pd\n",
    "from pandas.io.json import json_normalize"
   ]
  },
  {
   "cell_type": "code",
   "execution_count": 74,
   "metadata": {},
   "outputs": [],
   "source": [
    "# pre populated list of securities from ./searchall script\n",
    "df = pd.read_json('./data/all.json')\n",
    "df = pd.json_normalize(df['rows'])"
   ]
  },
  {
   "cell_type": "code",
   "execution_count": 75,
   "metadata": {},
   "outputs": [],
   "source": [
    "df.index= df['Ticker']"
   ]
  },
  {
   "cell_type": "code",
   "execution_count": 76,
   "metadata": {},
   "outputs": [
    {
     "data": {
      "text/plain": [
       "Index(['SecId', 'LegalName', 'Name', 'IndustryName', 'SectorName', 'TenforeId',\n",
       "       'Universe', 'ExchangeId', 'Ticker', 'ClosePrice', 'MarketCap',\n",
       "       'DividendYield', 'PERatio', 'MarketCountryName', 'EquityStyleBox',\n",
       "       'ReturnD1', 'ReturnW1', 'ReturnM1', 'ReturnM3', 'ReturnM6', 'ReturnM0',\n",
       "       'ReturnM12', 'ReturnM36', 'ReturnM60', 'ReturnM120', 'EBTMarginYear1',\n",
       "       'ROEYear1', 'ROICYear1', 'EPSGrowth3YYear1', 'RevenueGrowth3Y',\n",
       "       'DebtEquityRatio', 'NetMargin', 'ROATTM', 'ROETTM', 'PEGRatio'],\n",
       "      dtype='object')"
      ]
     },
     "execution_count": 76,
     "metadata": {},
     "output_type": "execute_result"
    }
   ],
   "source": [
    "df.columns"
   ]
  },
  {
   "cell_type": "code",
   "execution_count": 77,
   "metadata": {},
   "outputs": [
    {
     "data": {
      "text/plain": [
       "Oil & Gas E&P                       90\n",
       "Asset Management                    78\n",
       "Other Industrial Metals & Mining    65\n",
       "Software - Application              58\n",
       "Banks - Regional                    50\n",
       "                                    ..\n",
       "Silver                               1\n",
       "Medical Distribution                 1\n",
       "Lumber & Wood Production             1\n",
       "Apparel Manufacturing                1\n",
       "Business Equipment & Supplies        1\n",
       "Name: IndustryName, Length: 137, dtype: int64"
      ]
     },
     "execution_count": 77,
     "metadata": {},
     "output_type": "execute_result"
    }
   ],
   "source": [
    "df.IndustryName.value_counts()"
   ]
  },
  {
   "cell_type": "code",
   "execution_count": 82,
   "metadata": {},
   "outputs": [
    {
     "data": {
      "text/plain": [
       "Industrials               248\n",
       "Financial Services        216\n",
       "Basic Materials           183\n",
       "Consumer Cyclical         160\n",
       "Technology                156\n",
       "Energy                    145\n",
       "Healthcare                105\n",
       "Communication Services     91\n",
       "Consumer Defensive         81\n",
       "Real Estate                76\n",
       "Utilities                  34\n",
       "Name: SectorName, dtype: int64"
      ]
     },
     "execution_count": 82,
     "metadata": {},
     "output_type": "execute_result"
    }
   ],
   "source": [
    "df.SectorName.value_counts()"
   ]
  },
  {
   "cell_type": "code",
   "execution_count": 78,
   "metadata": {},
   "outputs": [
    {
     "data": {
      "text/html": [
       "<div>\n",
       "<style scoped>\n",
       "    .dataframe tbody tr th:only-of-type {\n",
       "        vertical-align: middle;\n",
       "    }\n",
       "\n",
       "    .dataframe tbody tr th {\n",
       "        vertical-align: top;\n",
       "    }\n",
       "\n",
       "    .dataframe thead th {\n",
       "        text-align: right;\n",
       "    }\n",
       "</style>\n",
       "<table border=\"1\" class=\"dataframe\">\n",
       "  <thead>\n",
       "    <tr style=\"text-align: right;\">\n",
       "      <th>Ticker</th>\n",
       "      <th>BP.</th>\n",
       "    </tr>\n",
       "  </thead>\n",
       "  <tbody>\n",
       "    <tr>\n",
       "      <th>SecId</th>\n",
       "      <td>0P000090MI</td>\n",
       "    </tr>\n",
       "    <tr>\n",
       "      <th>LegalName</th>\n",
       "      <td>BP PLC</td>\n",
       "    </tr>\n",
       "    <tr>\n",
       "      <th>Name</th>\n",
       "      <td>BP PLC</td>\n",
       "    </tr>\n",
       "    <tr>\n",
       "      <th>IndustryName</th>\n",
       "      <td>Oil &amp; Gas Integrated</td>\n",
       "    </tr>\n",
       "    <tr>\n",
       "      <th>SectorName</th>\n",
       "      <td>Energy</td>\n",
       "    </tr>\n",
       "    <tr>\n",
       "      <th>TenforeId</th>\n",
       "      <td>151.1.BP/</td>\n",
       "    </tr>\n",
       "    <tr>\n",
       "      <th>Universe</th>\n",
       "      <td>E0EXG$XLON</td>\n",
       "    </tr>\n",
       "    <tr>\n",
       "      <th>ExchangeId</th>\n",
       "      <td>EX$$$$XLON</td>\n",
       "    </tr>\n",
       "    <tr>\n",
       "      <th>Ticker</th>\n",
       "      <td>BP.</td>\n",
       "    </tr>\n",
       "    <tr>\n",
       "      <th>ClosePrice</th>\n",
       "      <td>321.45</td>\n",
       "    </tr>\n",
       "    <tr>\n",
       "      <th>MarketCap</th>\n",
       "      <td>6.51265e+10</td>\n",
       "    </tr>\n",
       "    <tr>\n",
       "      <th>DividendYield</th>\n",
       "      <td>10.16</td>\n",
       "    </tr>\n",
       "    <tr>\n",
       "      <th>PERatio</th>\n",
       "      <td>NaN</td>\n",
       "    </tr>\n",
       "    <tr>\n",
       "      <th>MarketCountryName</th>\n",
       "      <td>United Kingdom</td>\n",
       "    </tr>\n",
       "    <tr>\n",
       "      <th>EquityStyleBox</th>\n",
       "      <td>2</td>\n",
       "    </tr>\n",
       "    <tr>\n",
       "      <th>ReturnD1</th>\n",
       "      <td>-0.6</td>\n",
       "    </tr>\n",
       "    <tr>\n",
       "      <th>ReturnW1</th>\n",
       "      <td>-1.89</td>\n",
       "    </tr>\n",
       "    <tr>\n",
       "      <th>ReturnM1</th>\n",
       "      <td>-1.85</td>\n",
       "    </tr>\n",
       "    <tr>\n",
       "      <th>ReturnM3</th>\n",
       "      <td>38.29</td>\n",
       "    </tr>\n",
       "    <tr>\n",
       "      <th>ReturnM6</th>\n",
       "      <td>-30.87</td>\n",
       "    </tr>\n",
       "    <tr>\n",
       "      <th>ReturnM0</th>\n",
       "      <td>-29.74</td>\n",
       "    </tr>\n",
       "    <tr>\n",
       "      <th>ReturnM12</th>\n",
       "      <td>-36.34</td>\n",
       "    </tr>\n",
       "    <tr>\n",
       "      <th>ReturnM36</th>\n",
       "      <td>-4.3</td>\n",
       "    </tr>\n",
       "    <tr>\n",
       "      <th>ReturnM60</th>\n",
       "      <td>1.48</td>\n",
       "    </tr>\n",
       "    <tr>\n",
       "      <th>ReturnM120</th>\n",
       "      <td>4.71</td>\n",
       "    </tr>\n",
       "    <tr>\n",
       "      <th>EBTMarginYear1</th>\n",
       "      <td>0.029289</td>\n",
       "    </tr>\n",
       "    <tr>\n",
       "      <th>ROEYear1</th>\n",
       "      <td>0.040686</td>\n",
       "    </tr>\n",
       "    <tr>\n",
       "      <th>ROICYear1</th>\n",
       "      <td>0.033075</td>\n",
       "    </tr>\n",
       "    <tr>\n",
       "      <th>EPSGrowth3YYear1</th>\n",
       "      <td>-0.004209</td>\n",
       "    </tr>\n",
       "    <tr>\n",
       "      <th>RevenueGrowth3Y</th>\n",
       "      <td>15.0089</td>\n",
       "    </tr>\n",
       "    <tr>\n",
       "      <th>DebtEquityRatio</th>\n",
       "      <td>0.659391</td>\n",
       "    </tr>\n",
       "    <tr>\n",
       "      <th>NetMargin</th>\n",
       "      <td>-0.012049</td>\n",
       "    </tr>\n",
       "    <tr>\n",
       "      <th>ROATTM</th>\n",
       "      <td>-0.011546</td>\n",
       "    </tr>\n",
       "    <tr>\n",
       "      <th>ROETTM</th>\n",
       "      <td>-0.034557</td>\n",
       "    </tr>\n",
       "    <tr>\n",
       "      <th>PEGRatio</th>\n",
       "      <td>NaN</td>\n",
       "    </tr>\n",
       "  </tbody>\n",
       "</table>\n",
       "</div>"
      ],
      "text/plain": [
       "Ticker                              BP.\n",
       "SecId                        0P000090MI\n",
       "LegalName                        BP PLC\n",
       "Name                             BP PLC\n",
       "IndustryName       Oil & Gas Integrated\n",
       "SectorName                       Energy\n",
       "TenforeId                     151.1.BP/\n",
       "Universe                     E0EXG$XLON\n",
       "ExchangeId                   EX$$$$XLON\n",
       "Ticker                              BP.\n",
       "ClosePrice                       321.45\n",
       "MarketCap                   6.51265e+10\n",
       "DividendYield                     10.16\n",
       "PERatio                             NaN\n",
       "MarketCountryName        United Kingdom\n",
       "EquityStyleBox                        2\n",
       "ReturnD1                           -0.6\n",
       "ReturnW1                          -1.89\n",
       "ReturnM1                          -1.85\n",
       "ReturnM3                          38.29\n",
       "ReturnM6                         -30.87\n",
       "ReturnM0                         -29.74\n",
       "ReturnM12                        -36.34\n",
       "ReturnM36                          -4.3\n",
       "ReturnM60                          1.48\n",
       "ReturnM120                         4.71\n",
       "EBTMarginYear1                 0.029289\n",
       "ROEYear1                       0.040686\n",
       "ROICYear1                      0.033075\n",
       "EPSGrowth3YYear1              -0.004209\n",
       "RevenueGrowth3Y                 15.0089\n",
       "DebtEquityRatio                0.659391\n",
       "NetMargin                     -0.012049\n",
       "ROATTM                        -0.011546\n",
       "ROETTM                        -0.034557\n",
       "PEGRatio                            NaN"
      ]
     },
     "execution_count": 78,
     "metadata": {},
     "output_type": "execute_result"
    }
   ],
   "source": [
    "df[ df['Name'] == 'BP PLC' ].T"
   ]
  },
  {
   "cell_type": "code",
   "execution_count": 24,
   "metadata": {},
   "outputs": [
    {
     "data": {
      "text/plain": [
       "<matplotlib.axes._subplots.AxesSubplot at 0x7fc0f7b58048>"
      ]
     },
     "execution_count": 24,
     "metadata": {},
     "output_type": "execute_result"
    },
    {
     "data": {
      "image/png": "[encoded data removed]",
      "text/plain": [
       "<Figure size 432x288 with 1 Axes>"
      ]
     },
     "metadata": {
      "needs_background": "light"
     },
     "output_type": "display_data"
    }
   ],
   "source": [
    "df = df[ df['PERatio'] < 20 ] \n",
    "\n",
    "df['PERatio'].hist()"
   ]
  },
  {
   "cell_type": "code",
   "execution_count": 79,
   "metadata": {},
   "outputs": [
    {
     "data": {
      "text/html": [
       "<div>\n",
       "<style scoped>\n",
       "    .dataframe tbody tr th:only-of-type {\n",
       "        vertical-align: middle;\n",
       "    }\n",
       "\n",
       "    .dataframe tbody tr th {\n",
       "        vertical-align: top;\n",
       "    }\n",
       "\n",
       "    .dataframe thead th {\n",
       "        text-align: right;\n",
       "    }\n",
       "</style>\n",
       "<table border=\"1\" class=\"dataframe\">\n",
       "  <thead>\n",
       "    <tr style=\"text-align: right;\">\n",
       "      <th>Ticker</th>\n",
       "      <th>FXPO</th>\n",
       "    </tr>\n",
       "  </thead>\n",
       "  <tbody>\n",
       "    <tr>\n",
       "      <th>SecId</th>\n",
       "      <td>0P0000C2LY</td>\n",
       "    </tr>\n",
       "    <tr>\n",
       "      <th>LegalName</th>\n",
       "      <td>Ferrexpo PLC</td>\n",
       "    </tr>\n",
       "    <tr>\n",
       "      <th>Name</th>\n",
       "      <td>Ferrexpo PLC</td>\n",
       "    </tr>\n",
       "    <tr>\n",
       "      <th>IndustryName</th>\n",
       "      <td>Steel</td>\n",
       "    </tr>\n",
       "    <tr>\n",
       "      <th>SectorName</th>\n",
       "      <td>Basic Materials</td>\n",
       "    </tr>\n",
       "    <tr>\n",
       "      <th>TenforeId</th>\n",
       "      <td>151.1.FXPO</td>\n",
       "    </tr>\n",
       "    <tr>\n",
       "      <th>Universe</th>\n",
       "      <td>E0EXG$XLON</td>\n",
       "    </tr>\n",
       "    <tr>\n",
       "      <th>ExchangeId</th>\n",
       "      <td>EX$$$$XLON</td>\n",
       "    </tr>\n",
       "    <tr>\n",
       "      <th>Ticker</th>\n",
       "      <td>FXPO</td>\n",
       "    </tr>\n",
       "    <tr>\n",
       "      <th>ClosePrice</th>\n",
       "      <td>178.8</td>\n",
       "    </tr>\n",
       "    <tr>\n",
       "      <th>MarketCap</th>\n",
       "      <td>1.09777e+09</td>\n",
       "    </tr>\n",
       "    <tr>\n",
       "      <th>DividendYield</th>\n",
       "      <td>4.52</td>\n",
       "    </tr>\n",
       "    <tr>\n",
       "      <th>PERatio</th>\n",
       "      <td>3.48</td>\n",
       "    </tr>\n",
       "    <tr>\n",
       "      <th>MarketCountryName</th>\n",
       "      <td>United Kingdom</td>\n",
       "    </tr>\n",
       "    <tr>\n",
       "      <th>EquityStyleBox</th>\n",
       "      <td>8</td>\n",
       "    </tr>\n",
       "    <tr>\n",
       "      <th>ReturnD1</th>\n",
       "      <td>-5.05</td>\n",
       "    </tr>\n",
       "    <tr>\n",
       "      <th>ReturnW1</th>\n",
       "      <td>0.32</td>\n",
       "    </tr>\n",
       "    <tr>\n",
       "      <th>ReturnM1</th>\n",
       "      <td>29.03</td>\n",
       "    </tr>\n",
       "    <tr>\n",
       "      <th>ReturnM3</th>\n",
       "      <td>60.34</td>\n",
       "    </tr>\n",
       "    <tr>\n",
       "      <th>ReturnM6</th>\n",
       "      <td>28.91</td>\n",
       "    </tr>\n",
       "    <tr>\n",
       "      <th>ReturnM0</th>\n",
       "      <td>25.95</td>\n",
       "    </tr>\n",
       "    <tr>\n",
       "      <th>ReturnM12</th>\n",
       "      <td>-22.6</td>\n",
       "    </tr>\n",
       "    <tr>\n",
       "      <th>ReturnM36</th>\n",
       "      <td>8.11</td>\n",
       "    </tr>\n",
       "    <tr>\n",
       "      <th>ReturnM60</th>\n",
       "      <td>29.89</td>\n",
       "    </tr>\n",
       "    <tr>\n",
       "      <th>ReturnM120</th>\n",
       "      <td>0.08</td>\n",
       "    </tr>\n",
       "    <tr>\n",
       "      <th>EBTMarginYear1</th>\n",
       "      <td>0.305016</td>\n",
       "    </tr>\n",
       "    <tr>\n",
       "      <th>ROEYear1</th>\n",
       "      <td>0.36292</td>\n",
       "    </tr>\n",
       "    <tr>\n",
       "      <th>ROICYear1</th>\n",
       "      <td>0.277584</td>\n",
       "    </tr>\n",
       "    <tr>\n",
       "      <th>EPSGrowth3YYear1</th>\n",
       "      <td>0.587475</td>\n",
       "    </tr>\n",
       "    <tr>\n",
       "      <th>RevenueGrowth3Y</th>\n",
       "      <td>15.1696</td>\n",
       "    </tr>\n",
       "    <tr>\n",
       "      <th>DebtEquityRatio</th>\n",
       "      <td>0.202588</td>\n",
       "    </tr>\n",
       "    <tr>\n",
       "      <th>NetMargin</th>\n",
       "      <td>0.26705</td>\n",
       "    </tr>\n",
       "    <tr>\n",
       "      <th>ROATTM</th>\n",
       "      <td>0.241579</td>\n",
       "    </tr>\n",
       "    <tr>\n",
       "      <th>ROETTM</th>\n",
       "      <td>0.36292</td>\n",
       "    </tr>\n",
       "    <tr>\n",
       "      <th>PEGRatio</th>\n",
       "      <td>NaN</td>\n",
       "    </tr>\n",
       "  </tbody>\n",
       "</table>\n",
       "</div>"
      ],
      "text/plain": [
       "Ticker                        FXPO\n",
       "SecId                   0P0000C2LY\n",
       "LegalName             Ferrexpo PLC\n",
       "Name                  Ferrexpo PLC\n",
       "IndustryName                 Steel\n",
       "SectorName         Basic Materials\n",
       "TenforeId               151.1.FXPO\n",
       "Universe                E0EXG$XLON\n",
       "ExchangeId              EX$$$$XLON\n",
       "Ticker                        FXPO\n",
       "ClosePrice                   178.8\n",
       "MarketCap              1.09777e+09\n",
       "DividendYield                 4.52\n",
       "PERatio                       3.48\n",
       "MarketCountryName   United Kingdom\n",
       "EquityStyleBox                   8\n",
       "ReturnD1                     -5.05\n",
       "ReturnW1                      0.32\n",
       "ReturnM1                     29.03\n",
       "ReturnM3                     60.34\n",
       "ReturnM6                     28.91\n",
       "ReturnM0                     25.95\n",
       "ReturnM12                    -22.6\n",
       "ReturnM36                     8.11\n",
       "ReturnM60                    29.89\n",
       "ReturnM120                    0.08\n",
       "EBTMarginYear1            0.305016\n",
       "ROEYear1                   0.36292\n",
       "ROICYear1                 0.277584\n",
       "EPSGrowth3YYear1          0.587475\n",
       "RevenueGrowth3Y            15.1696\n",
       "DebtEquityRatio           0.202588\n",
       "NetMargin                  0.26705\n",
       "ROATTM                    0.241579\n",
       "ROETTM                     0.36292\n",
       "PEGRatio                       NaN"
      ]
     },
     "execution_count": 79,
     "metadata": {},
     "output_type": "execute_result"
    }
   ],
   "source": [
    "df[ df['Ticker'] == 'FXPO' ].T"
   ]
  },
  {
   "cell_type": "code",
   "execution_count": 36,
   "metadata": {},
   "outputs": [
    {
     "data": {
      "text/plain": [
       "<matplotlib.axes._subplots.AxesSubplot at 0x7fc0f7326898>"
      ]
     },
     "execution_count": 36,
     "metadata": {},
     "output_type": "execute_result"
    },
    {
     "data": {
      "image/png": "[encoded data removed]",
      "text/plain": [
       "<Figure size 432x288 with 1 Axes>"
      ]
     },
     "metadata": {
      "needs_background": "light"
     },
     "output_type": "display_data"
    }
   ],
   "source": [
    "\n",
    "df[ df['ReturnM1'] < 100]['ReturnM1'].hist()"
   ]
  },
  {
   "cell_type": "code",
   "execution_count": 38,
   "metadata": {},
   "outputs": [
    {
     "data": {
      "text/plain": [
       "<matplotlib.axes._subplots.AxesSubplot at 0x7fc0f6f230b8>"
      ]
     },
     "execution_count": 38,
     "metadata": {},
     "output_type": "execute_result"
    },
    {
     "data": {
      "image/png": "[encoded data removed]",
      "text/plain": [
       "<Figure size 432x288 with 1 Axes>"
      ]
     },
     "metadata": {
      "needs_background": "light"
     },
     "output_type": "display_data"
    }
   ],
   "source": [
    "df[ df['ReturnM12'] < 200]['ReturnM12'].hist(bins=20)"
   ]
  },
  {
   "cell_type": "code",
   "execution_count": 39,
   "metadata": {},
   "outputs": [
    {
     "data": {
      "text/plain": [
       "<matplotlib.axes._subplots.AxesSubplot at 0x7fc0f6ebb978>"
      ]
     },
     "execution_count": 39,
     "metadata": {},
     "output_type": "execute_result"
    },
    {
     "data": {
      "image/png": "[encoded data removed]",
      "text/plain": [
       "<Figure size 432x288 with 1 Axes>"
      ]
     },
     "metadata": {
      "needs_background": "light"
     },
     "output_type": "display_data"
    }
   ],
   "source": [
    "df[ df['DividendYield'] < 20]['DividendYield'].hist(bins=20)"
   ]
  },
  {
   "cell_type": "code",
   "execution_count": 40,
   "metadata": {},
   "outputs": [
    {
     "data": {
      "text/plain": [
       "<matplotlib.axes._subplots.AxesSubplot at 0x7fc0f6e460f0>"
      ]
     },
     "execution_count": 40,
     "metadata": {},
     "output_type": "execute_result"
    },
    {
     "data": {
      "image/png": "[encoded data removed]",
      "text/plain": [
       "<Figure size 432x288 with 1 Axes>"
      ]
     },
     "metadata": {
      "needs_background": "light"
     },
     "output_type": "display_data"
    }
   ],
   "source": [
    "df[ df['PERatio'] < 20]['PERatio'].hist(bins=20)"
   ]
  },
  {
   "cell_type": "code",
   "execution_count": 42,
   "metadata": {},
   "outputs": [
    {
     "data": {
      "text/plain": [
       "<matplotlib.axes._subplots.AxesSubplot at 0x7fc0f6cddeb8>"
      ]
     },
     "execution_count": 42,
     "metadata": {},
     "output_type": "execute_result"
    },
    {
     "data": {
      "image/png": "[encoded data removed]",
      "text/plain": [
       "<Figure size 432x288 with 1 Axes>"
      ]
     },
     "metadata": {
      "needs_background": "light"
     },
     "output_type": "display_data"
    }
   ],
   "source": [
    "ndf= df[ df['PERatio'] < 20]\n",
    "ndf= ndf[ ndf['DividendYield'] < 20]\n",
    "ndf.plot(kind='scatter',x='DividendYield', y='PERatio')"
   ]
  },
  {
   "cell_type": "code",
   "execution_count": 45,
   "metadata": {},
   "outputs": [
    {
     "data": {
      "text/plain": [
       "<matplotlib.axes._subplots.AxesSubplot at 0x7fc0f6c04160>"
      ]
     },
     "execution_count": 45,
     "metadata": {},
     "output_type": "execute_result"
    },
    {
     "data": {
      "image/png": "[encoded data removed]",
      "text/plain": [
       "<Figure size 432x288 with 1 Axes>"
      ]
     },
     "metadata": {
      "needs_background": "light"
     },
     "output_type": "display_data"
    }
   ],
   "source": [
    "ndf.plot(kind='scatter',x='ReturnM120', y='RevenueGrowth3Y')"
   ]
  },
  {
   "cell_type": "code",
   "execution_count": 48,
   "metadata": {},
   "outputs": [
    {
     "data": {
      "text/plain": [
       "7.788183807439824"
      ]
     },
     "execution_count": 48,
     "metadata": {},
     "output_type": "execute_result"
    }
   ],
   "source": [
    "ndf['ReturnM1'].mean()"
   ]
  },
  {
   "cell_type": "code",
   "execution_count": 49,
   "metadata": {},
   "outputs": [
    {
     "data": {
      "text/plain": [
       "-10.515837004405286"
      ]
     },
     "execution_count": 49,
     "metadata": {},
     "output_type": "execute_result"
    }
   ],
   "source": [
    "ndf['ReturnM12'].mean()"
   ]
  },
  {
   "cell_type": "code",
   "execution_count": 51,
   "metadata": {},
   "outputs": [
    {
     "data": {
      "text/plain": [
       "415     45.61\n",
       "692     57.95\n",
       "254     61.01\n",
       "365     83.51\n",
       "370    293.24\n",
       "Name: ReturnM1, dtype: float64"
      ]
     },
     "execution_count": 51,
     "metadata": {},
     "output_type": "execute_result"
    }
   ],
   "source": [
    "ndf['ReturnM1'].sort_values().tail()"
   ]
  },
  {
   "cell_type": "code",
   "execution_count": 57,
   "metadata": {},
   "outputs": [
    {
     "data": {
      "text/plain": [
       "SecId                              0P00007OEX\n",
       "LegalName            Highland Gold Mining Ltd\n",
       "Name                 Highland Gold Mining Ltd\n",
       "IndustryName                             Gold\n",
       "SectorName                    Basic Materials\n",
       "TenforeId                           151.1.HGM\n",
       "Universe                           E0EXG$XLON\n",
       "ExchangeId                         EX$$$$XLON\n",
       "Ticker                                    HGM\n",
       "ClosePrice                                230\n",
       "MarketCap                         8.19496e+08\n",
       "DividendYield                            3.77\n",
       "PERatio                                   5.8\n",
       "MarketCountryName              United Kingdom\n",
       "EquityStyleBox                              7\n",
       "ReturnD1                                -0.79\n",
       "ReturnW1                                -4.98\n",
       "ReturnM1                               -15.97\n",
       "ReturnM3                                39.54\n",
       "ReturnM6                                25.04\n",
       "ReturnM0                                16.45\n",
       "ReturnM12                               30.79\n",
       "ReturnM36                               21.53\n",
       "ReturnM60                               40.32\n",
       "ReturnM120                               7.57\n",
       "EBTMarginYear1                       0.401458\n",
       "ROEYear1                             0.199357\n",
       "ROICYear1                            0.152622\n",
       "EPSGrowth3YYear1                     0.040003\n",
       "RevenueGrowth3Y                        8.9298\n",
       "DebtEquityRatio                      0.292961\n",
       "NetMargin                            0.448144\n",
       "ROATTM                               0.131198\n",
       "ROETTM                               0.199357\n",
       "PEGRatio                                  NaN\n",
       "Name: HGM, dtype: object"
      ]
     },
     "execution_count": 57,
     "metadata": {},
     "output_type": "execute_result"
    }
   ],
   "source": [
    "df.loc['HGM']"
   ]
  },
  {
   "cell_type": "code",
   "execution_count": 65,
   "metadata": {},
   "outputs": [
    {
     "data": {
      "text/plain": [
       "SecId                                   0P00007OU3\n",
       "LegalName            Royal Dutch Shell PLC Class A\n",
       "Name                 Royal Dutch Shell PLC Class A\n",
       "IndustryName                  Oil & Gas Integrated\n",
       "SectorName                                  Energy\n",
       "TenforeId                               151.1.RDSA\n",
       "Universe                                E0EXG$XLON\n",
       "ExchangeId                              EX$$$$XLON\n",
       "Ticker                                        RDSA\n",
       "ClosePrice                                  1375.8\n",
       "MarketCap                               1.0528e+11\n",
       "DividendYield                                 8.93\n",
       "PERatio                                      14.04\n",
       "MarketCountryName                   United Kingdom\n",
       "EquityStyleBox                                   2\n",
       "ReturnD1                                      0.06\n",
       "ReturnW1                                       2.5\n",
       "ReturnM1                                      2.39\n",
       "ReturnM3                                     41.58\n",
       "ReturnM6                                    -37.13\n",
       "ReturnM0                                    -36.87\n",
       "ReturnM12                                   -41.67\n",
       "ReturnM36                                    -5.74\n",
       "ReturnM60                                     2.11\n",
       "ReturnM120                                    3.54\n",
       "EBTMarginYear1                            0.073896\n",
       "ROEYear1                                  0.084955\n",
       "ROICYear1                                 0.062702\n",
       "EPSGrowth3YYear1                          0.010572\n",
       "RevenueGrowth3Y                            13.8683\n",
       "DebtEquityRatio                           0.436303\n",
       "NetMargin                                 0.030566\n",
       "ROATTM                                    0.024366\n",
       "ROETTM                                    0.052223\n",
       "PEGRatio                                    4.7924\n",
       "Name: RDSA, dtype: object"
      ]
     },
     "execution_count": 65,
     "metadata": {},
     "output_type": "execute_result"
    }
   ],
   "source": [
    "df.loc['RDSA']"
   ]
  },
  {
   "cell_type": "code",
   "execution_count": 62,
   "metadata": {},
   "outputs": [
    {
     "data": {
      "text/plain": [
       "Ticker\n",
       "55BC    4.311145e+09\n",
       "RSA     4.328452e+09\n",
       "PETB    4.369813e+09\n",
       "PSON    4.409092e+09\n",
       "RSTI    4.434908e+09\n",
       "            ...     \n",
       "SMSN    2.915076e+11\n",
       "SMSD    2.915076e+11\n",
       "RICO    5.980117e+11\n",
       "MEL     3.043819e+12\n",
       "TYT     1.895091e+13\n",
       "Name: MarketCap, Length: 100, dtype: float64"
      ]
     },
     "execution_count": 62,
     "metadata": {},
     "output_type": "execute_result"
    }
   ],
   "source": [
    "df.sort_values('MarketCap')['MarketCap'].tail(100)"
   ]
  },
  {
   "cell_type": "code",
   "execution_count": 80,
   "metadata": {},
   "outputs": [],
   "source": [
    "energy = df[ df['SectorName'] == 'Energy']"
   ]
  },
  {
   "cell_type": "code",
   "execution_count": 81,
   "metadata": {},
   "outputs": [
    {
     "data": {
      "text/html": [
       "<div>\n",
       "<style scoped>\n",
       "    .dataframe tbody tr th:only-of-type {\n",
       "        vertical-align: middle;\n",
       "    }\n",
       "\n",
       "    .dataframe tbody tr th {\n",
       "        vertical-align: top;\n",
       "    }\n",
       "\n",
       "    .dataframe thead th {\n",
       "        text-align: right;\n",
       "    }\n",
       "</style>\n",
       "<table border=\"1\" class=\"dataframe\">\n",
       "  <thead>\n",
       "    <tr style=\"text-align: right;\">\n",
       "      <th></th>\n",
       "      <th>SecId</th>\n",
       "      <th>LegalName</th>\n",
       "      <th>Name</th>\n",
       "      <th>IndustryName</th>\n",
       "      <th>SectorName</th>\n",
       "      <th>TenforeId</th>\n",
       "      <th>Universe</th>\n",
       "      <th>ExchangeId</th>\n",
       "      <th>Ticker</th>\n",
       "      <th>ClosePrice</th>\n",
       "      <th>...</th>\n",
       "      <th>EBTMarginYear1</th>\n",
       "      <th>ROEYear1</th>\n",
       "      <th>ROICYear1</th>\n",
       "      <th>EPSGrowth3YYear1</th>\n",
       "      <th>RevenueGrowth3Y</th>\n",
       "      <th>DebtEquityRatio</th>\n",
       "      <th>NetMargin</th>\n",
       "      <th>ROATTM</th>\n",
       "      <th>ROETTM</th>\n",
       "      <th>PEGRatio</th>\n",
       "    </tr>\n",
       "    <tr>\n",
       "      <th>Ticker</th>\n",
       "      <th></th>\n",
       "      <th></th>\n",
       "      <th></th>\n",
       "      <th></th>\n",
       "      <th></th>\n",
       "      <th></th>\n",
       "      <th></th>\n",
       "      <th></th>\n",
       "      <th></th>\n",
       "      <th></th>\n",
       "      <th></th>\n",
       "      <th></th>\n",
       "      <th></th>\n",
       "      <th></th>\n",
       "      <th></th>\n",
       "      <th></th>\n",
       "      <th></th>\n",
       "      <th></th>\n",
       "      <th></th>\n",
       "      <th></th>\n",
       "      <th></th>\n",
       "    </tr>\n",
       "  </thead>\n",
       "  <tbody>\n",
       "    <tr>\n",
       "      <th>88E</th>\n",
       "      <td>0P0000VAET</td>\n",
       "      <td>88 Energy Ltd</td>\n",
       "      <td>88 Energy Ltd</td>\n",
       "      <td>Oil &amp; Gas E&amp;P</td>\n",
       "      <td>Energy</td>\n",
       "      <td>151.1.88E</td>\n",
       "      <td>E0EXG$XLON</td>\n",
       "      <td>EX$$$$XLON</td>\n",
       "      <td>88E</td>\n",
       "      <td>0.280</td>\n",
       "      <td>...</td>\n",
       "      <td>NaN</td>\n",
       "      <td>-0.463485</td>\n",
       "      <td>-0.329140</td>\n",
       "      <td>-0.073912</td>\n",
       "      <td>NaN</td>\n",
       "      <td>0.350977</td>\n",
       "      <td>NaN</td>\n",
       "      <td>-0.338404</td>\n",
       "      <td>-0.463485</td>\n",
       "      <td>NaN</td>\n",
       "    </tr>\n",
       "    <tr>\n",
       "      <th>ADES</th>\n",
       "      <td>0P0001AGFT</td>\n",
       "      <td>ADES International Holding PLC</td>\n",
       "      <td>ADES International Holding PLC</td>\n",
       "      <td>Oil &amp; Gas Equipment &amp; Services</td>\n",
       "      <td>Energy</td>\n",
       "      <td>151.1.ADES</td>\n",
       "      <td>E0EXG$XLON</td>\n",
       "      <td>EX$$$$XLON</td>\n",
       "      <td>ADES</td>\n",
       "      <td>9.800</td>\n",
       "      <td>...</td>\n",
       "      <td>0.085547</td>\n",
       "      <td>0.067014</td>\n",
       "      <td>0.064747</td>\n",
       "      <td>0.600589</td>\n",
       "      <td>52.7246</td>\n",
       "      <td>1.463512</td>\n",
       "      <td>0.059926</td>\n",
       "      <td>0.022755</td>\n",
       "      <td>0.067014</td>\n",
       "      <td>NaN</td>\n",
       "    </tr>\n",
       "    <tr>\n",
       "      <th>ADME</th>\n",
       "      <td>0P00007Z0A</td>\n",
       "      <td>ADM Energy PLC</td>\n",
       "      <td>ADM Energy PLC</td>\n",
       "      <td>Oil &amp; Gas E&amp;P</td>\n",
       "      <td>Energy</td>\n",
       "      <td>151.1.ADME</td>\n",
       "      <td>E0EXG$XLON</td>\n",
       "      <td>EX$$$$XLON</td>\n",
       "      <td>ADME</td>\n",
       "      <td>2.700</td>\n",
       "      <td>...</td>\n",
       "      <td>-0.271506</td>\n",
       "      <td>-0.057828</td>\n",
       "      <td>-0.057828</td>\n",
       "      <td>-0.333858</td>\n",
       "      <td>NaN</td>\n",
       "      <td>NaN</td>\n",
       "      <td>-0.034642</td>\n",
       "      <td>-0.009199</td>\n",
       "      <td>-0.010304</td>\n",
       "      <td>NaN</td>\n",
       "    </tr>\n",
       "    <tr>\n",
       "      <th>AEX</th>\n",
       "      <td>0P00007NXD</td>\n",
       "      <td>Aminex PLC</td>\n",
       "      <td>Aminex PLC</td>\n",
       "      <td>Oil &amp; Gas E&amp;P</td>\n",
       "      <td>Energy</td>\n",
       "      <td>151.1.AEX</td>\n",
       "      <td>E0EXG$XLON</td>\n",
       "      <td>EX$$$$XLON</td>\n",
       "      <td>AEX</td>\n",
       "      <td>0.825</td>\n",
       "      <td>...</td>\n",
       "      <td>-42.663866</td>\n",
       "      <td>-0.286359</td>\n",
       "      <td>-0.284071</td>\n",
       "      <td>-0.259899</td>\n",
       "      <td>-58.3300</td>\n",
       "      <td>0.003720</td>\n",
       "      <td>-42.663866</td>\n",
       "      <td>-0.233749</td>\n",
       "      <td>-0.286359</td>\n",
       "      <td>NaN</td>\n",
       "    </tr>\n",
       "    <tr>\n",
       "      <th>AAOG</th>\n",
       "      <td>0P00019VSV</td>\n",
       "      <td>Anglo African Oil &amp; Gas PLC</td>\n",
       "      <td>Anglo African Oil &amp; Gas PLC</td>\n",
       "      <td>Oil &amp; Gas Drilling</td>\n",
       "      <td>Energy</td>\n",
       "      <td>151.1.AAOG</td>\n",
       "      <td>E0EXG$XLON</td>\n",
       "      <td>EX$$$$XLON</td>\n",
       "      <td>AAOG</td>\n",
       "      <td>0.375</td>\n",
       "      <td>...</td>\n",
       "      <td>-87.532745</td>\n",
       "      <td>-1.467117</td>\n",
       "      <td>-1.451199</td>\n",
       "      <td>NaN</td>\n",
       "      <td>NaN</td>\n",
       "      <td>NaN</td>\n",
       "      <td>-59.684170</td>\n",
       "      <td>-0.654075</td>\n",
       "      <td>-0.993241</td>\n",
       "      <td>NaN</td>\n",
       "    </tr>\n",
       "    <tr>\n",
       "      <th>...</th>\n",
       "      <td>...</td>\n",
       "      <td>...</td>\n",
       "      <td>...</td>\n",
       "      <td>...</td>\n",
       "      <td>...</td>\n",
       "      <td>...</td>\n",
       "      <td>...</td>\n",
       "      <td>...</td>\n",
       "      <td>...</td>\n",
       "      <td>...</td>\n",
       "      <td>...</td>\n",
       "      <td>...</td>\n",
       "      <td>...</td>\n",
       "      <td>...</td>\n",
       "      <td>...</td>\n",
       "      <td>...</td>\n",
       "      <td>...</td>\n",
       "      <td>...</td>\n",
       "      <td>...</td>\n",
       "      <td>...</td>\n",
       "      <td>...</td>\n",
       "    </tr>\n",
       "    <tr>\n",
       "      <th>WTE</th>\n",
       "      <td>0P00007P2I</td>\n",
       "      <td>Westmount Energy Ltd</td>\n",
       "      <td>Westmount Energy Ltd</td>\n",
       "      <td>Oil &amp; Gas E&amp;P</td>\n",
       "      <td>Energy</td>\n",
       "      <td>151.1.WTE</td>\n",
       "      <td>E0EXG$XLON</td>\n",
       "      <td>EX$$$$XLON</td>\n",
       "      <td>WTE</td>\n",
       "      <td>13.500</td>\n",
       "      <td>...</td>\n",
       "      <td>NaN</td>\n",
       "      <td>0.492307</td>\n",
       "      <td>0.441731</td>\n",
       "      <td>0.512137</td>\n",
       "      <td>NaN</td>\n",
       "      <td>0.100911</td>\n",
       "      <td>NaN</td>\n",
       "      <td>0.103242</td>\n",
       "      <td>0.120349</td>\n",
       "      <td>NaN</td>\n",
       "    </tr>\n",
       "    <tr>\n",
       "      <th>WG.</th>\n",
       "      <td>0P00007P2Z</td>\n",
       "      <td>Wood Group (John) PLC</td>\n",
       "      <td>Wood Group (John) PLC</td>\n",
       "      <td>Oil &amp; Gas Integrated</td>\n",
       "      <td>Energy</td>\n",
       "      <td>151.1.WG/</td>\n",
       "      <td>E0EXG$XLON</td>\n",
       "      <td>EX$$$$XLON</td>\n",
       "      <td>WG.</td>\n",
       "      <td>224.300</td>\n",
       "      <td>...</td>\n",
       "      <td>0.015035</td>\n",
       "      <td>0.015945</td>\n",
       "      <td>0.022361</td>\n",
       "      <td>0.040096</td>\n",
       "      <td>33.8909</td>\n",
       "      <td>0.447648</td>\n",
       "      <td>0.007280</td>\n",
       "      <td>0.005957</td>\n",
       "      <td>0.015945</td>\n",
       "      <td>NaN</td>\n",
       "    </tr>\n",
       "    <tr>\n",
       "      <th>ZEN</th>\n",
       "      <td>0P00019KTE</td>\n",
       "      <td>Zenith Energy Ltd</td>\n",
       "      <td>Zenith Energy Ltd</td>\n",
       "      <td>Oil &amp; Gas E&amp;P</td>\n",
       "      <td>Energy</td>\n",
       "      <td>151.1.ZEN</td>\n",
       "      <td>E0EXG$XLON</td>\n",
       "      <td>EX$$$$XLON</td>\n",
       "      <td>ZEN</td>\n",
       "      <td>0.975</td>\n",
       "      <td>...</td>\n",
       "      <td>-1.486371</td>\n",
       "      <td>-0.017112</td>\n",
       "      <td>-0.015803</td>\n",
       "      <td>NaN</td>\n",
       "      <td>46.8155</td>\n",
       "      <td>0.014367</td>\n",
       "      <td>-1.358660</td>\n",
       "      <td>-0.006537</td>\n",
       "      <td>-0.012374</td>\n",
       "      <td>NaN</td>\n",
       "    </tr>\n",
       "    <tr>\n",
       "      <th>ZOE</th>\n",
       "      <td>0P00015LT1</td>\n",
       "      <td>Zoetic International PLC</td>\n",
       "      <td>Zoetic International PLC</td>\n",
       "      <td>Oil &amp; Gas E&amp;P</td>\n",
       "      <td>Energy</td>\n",
       "      <td>151.1.ZOE</td>\n",
       "      <td>E0EXG$XLON</td>\n",
       "      <td>EX$$$$XLON</td>\n",
       "      <td>ZOE</td>\n",
       "      <td>9.050</td>\n",
       "      <td>...</td>\n",
       "      <td>-5.677617</td>\n",
       "      <td>-0.735837</td>\n",
       "      <td>-0.735897</td>\n",
       "      <td>-0.003249</td>\n",
       "      <td>NaN</td>\n",
       "      <td>NaN</td>\n",
       "      <td>-3.276760</td>\n",
       "      <td>-0.833625</td>\n",
       "      <td>-1.133080</td>\n",
       "      <td>NaN</td>\n",
       "    </tr>\n",
       "    <tr>\n",
       "      <th>ZOL</th>\n",
       "      <td>0P00007YRA</td>\n",
       "      <td>Zoltav Resources Inc</td>\n",
       "      <td>Zoltav Resources Inc</td>\n",
       "      <td>Oil &amp; Gas E&amp;P</td>\n",
       "      <td>Energy</td>\n",
       "      <td>151.1.ZOL</td>\n",
       "      <td>E0EXG$XLON</td>\n",
       "      <td>EX$$$$XLON</td>\n",
       "      <td>ZOL</td>\n",
       "      <td>38.000</td>\n",
       "      <td>...</td>\n",
       "      <td>0.096320</td>\n",
       "      <td>0.016953</td>\n",
       "      <td>0.027820</td>\n",
       "      <td>-0.062008</td>\n",
       "      <td>-7.9066</td>\n",
       "      <td>0.129160</td>\n",
       "      <td>-0.100810</td>\n",
       "      <td>-0.018395</td>\n",
       "      <td>-0.026936</td>\n",
       "      <td>NaN</td>\n",
       "    </tr>\n",
       "  </tbody>\n",
       "</table>\n",
       "<p>145 rows × 35 columns</p>\n",
       "</div>"
      ],
      "text/plain": [
       "             SecId                       LegalName  \\\n",
       "Ticker                                               \n",
       "88E     0P0000VAET                   88 Energy Ltd   \n",
       "ADES    0P0001AGFT  ADES International Holding PLC   \n",
       "ADME    0P00007Z0A                  ADM Energy PLC   \n",
       "AEX     0P00007NXD                      Aminex PLC   \n",
       "AAOG    0P00019VSV     Anglo African Oil & Gas PLC   \n",
       "...            ...                             ...   \n",
       "WTE     0P00007P2I            Westmount Energy Ltd   \n",
       "WG.     0P00007P2Z           Wood Group (John) PLC   \n",
       "ZEN     0P00019KTE               Zenith Energy Ltd   \n",
       "ZOE     0P00015LT1        Zoetic International PLC   \n",
       "ZOL     0P00007YRA            Zoltav Resources Inc   \n",
       "\n",
       "                                  Name                    IndustryName  \\\n",
       "Ticker                                                                   \n",
       "88E                      88 Energy Ltd                   Oil & Gas E&P   \n",
       "ADES    ADES International Holding PLC  Oil & Gas Equipment & Services   \n",
       "ADME                    ADM Energy PLC                   Oil & Gas E&P   \n",
       "AEX                         Aminex PLC                   Oil & Gas E&P   \n",
       "AAOG       Anglo African Oil & Gas PLC              Oil & Gas Drilling   \n",
       "...                                ...                             ...   \n",
       "WTE               Westmount Energy Ltd                   Oil & Gas E&P   \n",
       "WG.              Wood Group (John) PLC            Oil & Gas Integrated   \n",
       "ZEN                  Zenith Energy Ltd                   Oil & Gas E&P   \n",
       "ZOE           Zoetic International PLC                   Oil & Gas E&P   \n",
       "ZOL               Zoltav Resources Inc                   Oil & Gas E&P   \n",
       "\n",
       "       SectorName   TenforeId    Universe  ExchangeId Ticker  ClosePrice  ...  \\\n",
       "Ticker                                                                    ...   \n",
       "88E        Energy   151.1.88E  E0EXG$XLON  EX$$$$XLON    88E       0.280  ...   \n",
       "ADES       Energy  151.1.ADES  E0EXG$XLON  EX$$$$XLON   ADES       9.800  ...   \n",
       "ADME       Energy  151.1.ADME  E0EXG$XLON  EX$$$$XLON   ADME       2.700  ...   \n",
       "AEX        Energy   151.1.AEX  E0EXG$XLON  EX$$$$XLON    AEX       0.825  ...   \n",
       "AAOG       Energy  151.1.AAOG  E0EXG$XLON  EX$$$$XLON   AAOG       0.375  ...   \n",
       "...           ...         ...         ...         ...    ...         ...  ...   \n",
       "WTE        Energy   151.1.WTE  E0EXG$XLON  EX$$$$XLON    WTE      13.500  ...   \n",
       "WG.        Energy   151.1.WG/  E0EXG$XLON  EX$$$$XLON    WG.     224.300  ...   \n",
       "ZEN        Energy   151.1.ZEN  E0EXG$XLON  EX$$$$XLON    ZEN       0.975  ...   \n",
       "ZOE        Energy   151.1.ZOE  E0EXG$XLON  EX$$$$XLON    ZOE       9.050  ...   \n",
       "ZOL        Energy   151.1.ZOL  E0EXG$XLON  EX$$$$XLON    ZOL      38.000  ...   \n",
       "\n",
       "        EBTMarginYear1  ROEYear1  ROICYear1 EPSGrowth3YYear1  RevenueGrowth3Y  \\\n",
       "Ticker                                                                          \n",
       "88E                NaN -0.463485  -0.329140        -0.073912              NaN   \n",
       "ADES          0.085547  0.067014   0.064747         0.600589          52.7246   \n",
       "ADME         -0.271506 -0.057828  -0.057828        -0.333858              NaN   \n",
       "AEX         -42.663866 -0.286359  -0.284071        -0.259899         -58.3300   \n",
       "AAOG        -87.532745 -1.467117  -1.451199              NaN              NaN   \n",
       "...                ...       ...        ...              ...              ...   \n",
       "WTE                NaN  0.492307   0.441731         0.512137              NaN   \n",
       "WG.           0.015035  0.015945   0.022361         0.040096          33.8909   \n",
       "ZEN          -1.486371 -0.017112  -0.015803              NaN          46.8155   \n",
       "ZOE          -5.677617 -0.735837  -0.735897        -0.003249              NaN   \n",
       "ZOL           0.096320  0.016953   0.027820        -0.062008          -7.9066   \n",
       "\n",
       "        DebtEquityRatio  NetMargin    ROATTM    ROETTM  PEGRatio  \n",
       "Ticker                                                            \n",
       "88E            0.350977        NaN -0.338404 -0.463485       NaN  \n",
       "ADES           1.463512   0.059926  0.022755  0.067014       NaN  \n",
       "ADME                NaN  -0.034642 -0.009199 -0.010304       NaN  \n",
       "AEX            0.003720 -42.663866 -0.233749 -0.286359       NaN  \n",
       "AAOG                NaN -59.684170 -0.654075 -0.993241       NaN  \n",
       "...                 ...        ...       ...       ...       ...  \n",
       "WTE            0.100911        NaN  0.103242  0.120349       NaN  \n",
       "WG.            0.447648   0.007280  0.005957  0.015945       NaN  \n",
       "ZEN            0.014367  -1.358660 -0.006537 -0.012374       NaN  \n",
       "ZOE                 NaN  -3.276760 -0.833625 -1.133080       NaN  \n",
       "ZOL            0.129160  -0.100810 -0.018395 -0.026936       NaN  \n",
       "\n",
       "[145 rows x 35 columns]"
      ]
     },
     "execution_count": 81,
     "metadata": {},
     "output_type": "execute_result"
    }
   ],
   "source": [
    "energy"
   ]
  },
  {
   "cell_type": "code",
   "execution_count": 83,
   "metadata": {},
   "outputs": [],
   "source": [
    "cheap = df[ df['PERatio'] < 5]"
   ]
  },
  {
   "cell_type": "code",
   "execution_count": 88,
   "metadata": {},
   "outputs": [
    {
     "data": {
      "text/plain": [
       "Ticker\n",
       "ENPL       6.3286\n",
       "ORPH       6.6534\n",
       "CMCL       6.9451\n",
       "MOGP       7.5661\n",
       "OGZD       7.8195\n",
       "TCN        8.1078\n",
       "AV.        8.5354\n",
       "VTBR      10.1439\n",
       "LOOK      10.1700\n",
       "ZENB      11.1835\n",
       "JKX       11.2731\n",
       "PIP       11.5459\n",
       "RTC       11.8253\n",
       "STB       11.8734\n",
       "MIRA      12.5186\n",
       "JUST      14.5572\n",
       "FXPO      15.1696\n",
       "NTBR      15.7654\n",
       "SGGD      16.1588\n",
       "SNT       16.1962\n",
       "PMO       17.2390\n",
       "ARO       17.2848\n",
       "BSE       18.3870\n",
       "AVAP      18.6979\n",
       "PTAL      19.3485\n",
       "SAUA      19.5341\n",
       "HUW       20.7806\n",
       "SLP       21.3117\n",
       "UKR       22.3591\n",
       "ASAI      23.9880\n",
       "GENL      25.5279\n",
       "ENW       29.6595\n",
       "PRTC      30.3201\n",
       "HSBK      31.3348\n",
       "37QB      31.3348\n",
       "SAA       33.1527\n",
       "SVE       34.6154\n",
       "OPM       36.3365\n",
       "AMGO      38.4058\n",
       "SEPL      40.0137\n",
       "SPEC      40.4818\n",
       "KAZ       43.5524\n",
       "HAYD      43.6745\n",
       "UVEL      54.3624\n",
       "CNEL      71.8116\n",
       "TMT       82.9510\n",
       "CGEO      85.0909\n",
       "TEK      116.0950\n",
       "PIRI     193.6956\n",
       "PANR    1021.3445\n",
       "Name: RevenueGrowth3Y, dtype: float64"
      ]
     },
     "execution_count": 88,
     "metadata": {},
     "output_type": "execute_result"
    }
   ],
   "source": [
    "cheap['RevenueGrowth3Y'].sort_values().dropna().tail(50)"
   ]
  },
  {
   "cell_type": "code",
   "execution_count": 92,
   "metadata": {},
   "outputs": [
    {
     "data": {
      "text/plain": [
       "SecId                            0P00012MKL\n",
       "LegalName                    Tekcapital PLC\n",
       "Name                         Tekcapital PLC\n",
       "IndustryName         Software - Application\n",
       "SectorName                       Technology\n",
       "TenforeId                         151.1.TEK\n",
       "Universe                         E0EXG$XLON\n",
       "ExchangeId                       EX$$$$XLON\n",
       "Ticker                                  TEK\n",
       "ClosePrice                               12\n",
       "MarketCap                       1.11917e+07\n",
       "DividendYield                           NaN\n",
       "PERatio                                1.68\n",
       "MarketCountryName            United Kingdom\n",
       "EquityStyleBox                            7\n",
       "ReturnD1                               8.51\n",
       "ReturnW1                              -7.27\n",
       "ReturnM1                             -13.56\n",
       "ReturnM3                                155\n",
       "ReturnM6                             142.86\n",
       "ReturnM0                             142.86\n",
       "ReturnM12                              6.25\n",
       "ReturnM36                            -25.63\n",
       "ReturnM60                            -19.62\n",
       "ReturnM120                              NaN\n",
       "EBTMarginYear1                     0.715352\n",
       "ROEYear1                           0.285458\n",
       "ROICYear1                          0.285458\n",
       "EPSGrowth3YYear1                   0.664398\n",
       "RevenueGrowth3Y                     116.095\n",
       "DebtEquityRatio                         NaN\n",
       "NetMargin                          0.715049\n",
       "ROATTM                              0.28027\n",
       "ROETTM                             0.285458\n",
       "PEGRatio                                NaN\n",
       "Name: TEK, dtype: object"
      ]
     },
     "execution_count": 92,
     "metadata": {},
     "output_type": "execute_result"
    }
   ],
   "source": [
    "cheap.loc['TEK']"
   ]
  },
  {
   "cell_type": "code",
   "execution_count": 93,
   "metadata": {},
   "outputs": [
    {
     "data": {
      "text/plain": [
       "SecId                      0P0000TIXW\n",
       "LegalName            Genel Energy PLC\n",
       "Name                 Genel Energy PLC\n",
       "IndustryName            Oil & Gas E&P\n",
       "SectorName                     Energy\n",
       "TenforeId                  151.1.GENL\n",
       "Universe                   E0EXG$XLON\n",
       "ExchangeId                 EX$$$$XLON\n",
       "Ticker                           GENL\n",
       "ClosePrice                      120.8\n",
       "MarketCap                 3.35426e+08\n",
       "DividendYield                    9.83\n",
       "PERatio                          4.19\n",
       "MarketCountryName                 NaN\n",
       "EquityStyleBox                      7\n",
       "ReturnD1                         3.87\n",
       "ReturnW1                         1.31\n",
       "ReturnM1                        12.78\n",
       "ReturnM3                       141.25\n",
       "ReturnM6                       -29.33\n",
       "ReturnM0                       -30.38\n",
       "ReturnM12                      -22.23\n",
       "ReturnM36                       14.49\n",
       "ReturnM60                      -22.81\n",
       "ReturnM120                        NaN\n",
       "EBTMarginYear1               0.277306\n",
       "ROEYear1                     0.076467\n",
       "ROICYear1                    0.076761\n",
       "EPSGrowth3YYear1             0.013885\n",
       "RevenueGrowth3Y               25.5279\n",
       "DebtEquityRatio               0.21492\n",
       "NetMargin                    0.275451\n",
       "ROATTM                       0.054807\n",
       "ROETTM                       0.076467\n",
       "PEGRatio                          NaN\n",
       "Name: GENL, dtype: object"
      ]
     },
     "execution_count": 93,
     "metadata": {},
     "output_type": "execute_result"
    }
   ],
   "source": [
    "cheap.loc['GENL']"
   ]
  },
  {
   "cell_type": "code",
   "execution_count": null,
   "metadata": {},
   "outputs": [],
   "source": []
  }
 ],
 "metadata": {
  "kernelspec": {
   "display_name": "Python 3",
   "language": "python",
   "name": "python3"
  },
  "language_info": {
   "codemirror_mode": {
    "name": "ipython",
    "version": 3
   },
   "file_extension": ".py",
   "mimetype": "text/x-python",
   "name": "python",
   "nbconvert_exporter": "python",
   "pygments_lexer": "ipython3",
   "version": "3.6.8"
  }
 },
 "nbformat": 4,
 "nbformat_minor": 4
}
